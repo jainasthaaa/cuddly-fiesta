{
 "cells": [
  {
   "cell_type": "code",
   "execution_count": 3,
   "metadata": {},
   "outputs": [],
   "source": [
    "from textblob import TextBlob\n",
    "import pandas as pd"
   ]
  },
  {
   "cell_type": "code",
   "execution_count": 2,
   "metadata": {},
   "outputs": [
    {
     "name": "stdout",
     "output_type": "stream",
     "text": [
      "Collecting textblob\n",
      "  Downloading textblob-0.18.0.post0-py3-none-any.whl.metadata (4.5 kB)\n",
      "Collecting nltk>=3.8 (from textblob)\n",
      "  Downloading nltk-3.9.1-py3-none-any.whl.metadata (2.9 kB)\n",
      "Collecting click (from nltk>=3.8->textblob)\n",
      "  Downloading click-8.1.7-py3-none-any.whl.metadata (3.0 kB)\n",
      "Requirement already satisfied: joblib in /home/codespace/.local/lib/python3.12/site-packages (from nltk>=3.8->textblob) (1.4.2)\n",
      "Collecting regex>=2021.8.3 (from nltk>=3.8->textblob)\n",
      "  Downloading regex-2024.9.11-cp312-cp312-manylinux_2_17_x86_64.manylinux2014_x86_64.whl.metadata (40 kB)\n",
      "Requirement already satisfied: tqdm in /usr/local/python/3.12.1/lib/python3.12/site-packages (from nltk>=3.8->textblob) (4.66.4)\n",
      "Downloading textblob-0.18.0.post0-py3-none-any.whl (626 kB)\n",
      "\u001b[2K   \u001b[90m━━━━━━━━━━━━━━━━━━━━━━━━━━━━━━━━━━━━━━━━\u001b[0m \u001b[32m626.3/626.3 kB\u001b[0m \u001b[31m2.5 MB/s\u001b[0m eta \u001b[36m0:00:00\u001b[0ma \u001b[36m0:00:01\u001b[0m\n",
      "\u001b[?25hDownloading nltk-3.9.1-py3-none-any.whl (1.5 MB)\n",
      "\u001b[2K   \u001b[90m━━━━━━━━━━━━━━━━━━━━━━━━━━━━━━━━━━━━━━━━\u001b[0m \u001b[32m1.5/1.5 MB\u001b[0m \u001b[31m2.2 MB/s\u001b[0m eta \u001b[36m0:00:00\u001b[0mta \u001b[36m0:00:01\u001b[0m\n",
      "\u001b[?25hDownloading regex-2024.9.11-cp312-cp312-manylinux_2_17_x86_64.manylinux2014_x86_64.whl (797 kB)\n",
      "\u001b[2K   \u001b[90m━━━━━━━━━━━━━━━━━━━━━━━━━━━━━━━━━━━━━━━━\u001b[0m \u001b[32m797.0/797.0 kB\u001b[0m \u001b[31m12.1 MB/s\u001b[0m eta \u001b[36m0:00:00\u001b[0m\n",
      "\u001b[?25hDownloading click-8.1.7-py3-none-any.whl (97 kB)\n",
      "Installing collected packages: regex, click, nltk, textblob\n",
      "\u001b[33m  WARNING: The script nltk is installed in '/usr/local/python/3.12.1/bin' which is not on PATH.\n",
      "  Consider adding this directory to PATH or, if you prefer to suppress this warning, use --no-warn-script-location.\u001b[0m\u001b[33m\n",
      "\u001b[0mSuccessfully installed click-8.1.7 nltk-3.9.1 regex-2024.9.11 textblob-0.18.0.post0\n",
      "Note: you may need to restart the kernel to use updated packages.\n"
     ]
    }
   ],
   "source": [
    "%pip install textblob"
   ]
  },
  {
   "cell_type": "code",
   "execution_count": 7,
   "metadata": {},
   "outputs": [
    {
     "data": {
      "text/html": [
       "<div>\n",
       "<style scoped>\n",
       "    .dataframe tbody tr th:only-of-type {\n",
       "        vertical-align: middle;\n",
       "    }\n",
       "\n",
       "    .dataframe tbody tr th {\n",
       "        vertical-align: top;\n",
       "    }\n",
       "\n",
       "    .dataframe thead th {\n",
       "        text-align: right;\n",
       "    }\n",
       "</style>\n",
       "<table border=\"1\" class=\"dataframe\">\n",
       "  <thead>\n",
       "    <tr style=\"text-align: right;\">\n",
       "      <th></th>\n",
       "      <th>comment</th>\n",
       "    </tr>\n",
       "  </thead>\n",
       "  <tbody>\n",
       "    <tr>\n",
       "      <th>0</th>\n",
       "      <td>Love this article! Very informative.</td>\n",
       "    </tr>\n",
       "    <tr>\n",
       "      <th>1</th>\n",
       "      <td>Not accurate at all. Manga and manhwa are basi...</td>\n",
       "    </tr>\n",
       "    <tr>\n",
       "      <th>2</th>\n",
       "      <td>Great explanation! I finally understand the di...</td>\n",
       "    </tr>\n",
       "    <tr>\n",
       "      <th>3</th>\n",
       "      <td>Too simplistic. Doesn't cover many important a...</td>\n",
       "    </tr>\n",
       "    <tr>\n",
       "      <th>4</th>\n",
       "      <td>Well-written and easy to understand.</td>\n",
       "    </tr>\n",
       "    <tr>\n",
       "      <th>5</th>\n",
       "      <td>I disagree with some points, but overall good ...</td>\n",
       "    </tr>\n",
       "    <tr>\n",
       "      <th>6</th>\n",
       "      <td>Very helpful for beginners.</td>\n",
       "    </tr>\n",
       "    <tr>\n",
       "      <th>7</th>\n",
       "      <td>Needs more examples.</td>\n",
       "    </tr>\n",
       "    <tr>\n",
       "      <th>8</th>\n",
       "      <td>Best explanation I've seen so far.</td>\n",
       "    </tr>\n",
       "    <tr>\n",
       "      <th>9</th>\n",
       "      <td>Too biased towards manga.</td>\n",
       "    </tr>\n",
       "    <tr>\n",
       "      <th>10</th>\n",
       "      <td>Manga is Japanese while Manhwa comes from Kore...</td>\n",
       "    </tr>\n",
       "    <tr>\n",
       "      <th>11</th>\n",
       "      <td>One big difference is how they are published. ...</td>\n",
       "    </tr>\n",
       "    <tr>\n",
       "      <th>12</th>\n",
       "      <td>Both Manga and Manhwa can be fantastic, but I ...</td>\n",
       "    </tr>\n",
       "  </tbody>\n",
       "</table>\n",
       "</div>"
      ],
      "text/plain": [
       "                                              comment\n",
       "0                Love this article! Very informative.\n",
       "1   Not accurate at all. Manga and manhwa are basi...\n",
       "2   Great explanation! I finally understand the di...\n",
       "3   Too simplistic. Doesn't cover many important a...\n",
       "4                Well-written and easy to understand.\n",
       "5   I disagree with some points, but overall good ...\n",
       "6                         Very helpful for beginners.\n",
       "7                                Needs more examples.\n",
       "8                  Best explanation I've seen so far.\n",
       "9                           Too biased towards manga.\n",
       "10  Manga is Japanese while Manhwa comes from Kore...\n",
       "11  One big difference is how they are published. ...\n",
       "12  Both Manga and Manhwa can be fantastic, but I ..."
      ]
     },
     "execution_count": 7,
     "metadata": {},
     "output_type": "execute_result"
    }
   ],
   "source": [
    "comments = [\n",
    "    \"Love this article! Very informative.\",\n",
    "    \"Not accurate at all. Manga and manhwa are basically the same.\",\n",
    "    \"Great explanation! I finally understand the difference.\",\n",
    "    \"Too simplistic. Doesn't cover many important aspects.\",\n",
    "    \"Well-written and easy to understand.\",\n",
    "    \"I disagree with some points, but overall good job.\",\n",
    "    \"Very helpful for beginners.\",\n",
    "    \"Needs more examples.\",\n",
    "    \"Best explanation I've seen so far.\",\n",
    "    \"Too biased towards manga.\",\n",
    "    \"Manga is Japanese while Manhwa comes from Korea. The art style and storytelling can be quite different!\",\n",
    "    \"One big difference is how they are published. Manga is often serialized in magazines like Shonen Jump, while Manhwa is frequently released as webtoons.\",\n",
    "    \"Both Manga and Manhwa can be fantastic, but I feel like Manhwa is easier to binge-read online, thanks to the scrolling format!\"\n",
    "]\n",
    "df = pd.DataFrame({'comment': comments})\n",
    "df"
   ]
  },
  {
   "cell_type": "code",
   "execution_count": 8,
   "metadata": {},
   "outputs": [
    {
     "name": "stdout",
     "output_type": "stream",
     "text": [
      "<class 'pandas.core.frame.DataFrame'>\n",
      "RangeIndex: 13 entries, 0 to 12\n",
      "Data columns (total 1 columns):\n",
      " #   Column   Non-Null Count  Dtype \n",
      "---  ------   --------------  ----- \n",
      " 0   comment  13 non-null     object\n",
      "dtypes: object(1)\n",
      "memory usage: 236.0+ bytes\n"
     ]
    }
   ],
   "source": [
    "df.info()"
   ]
  },
  {
   "cell_type": "code",
   "execution_count": 9,
   "metadata": {},
   "outputs": [
    {
     "data": {
      "text/html": [
       "<div>\n",
       "<style scoped>\n",
       "    .dataframe tbody tr th:only-of-type {\n",
       "        vertical-align: middle;\n",
       "    }\n",
       "\n",
       "    .dataframe tbody tr th {\n",
       "        vertical-align: top;\n",
       "    }\n",
       "\n",
       "    .dataframe thead th {\n",
       "        text-align: right;\n",
       "    }\n",
       "</style>\n",
       "<table border=\"1\" class=\"dataframe\">\n",
       "  <thead>\n",
       "    <tr style=\"text-align: right;\">\n",
       "      <th></th>\n",
       "      <th>comment</th>\n",
       "    </tr>\n",
       "  </thead>\n",
       "  <tbody>\n",
       "    <tr>\n",
       "      <th>count</th>\n",
       "      <td>13</td>\n",
       "    </tr>\n",
       "    <tr>\n",
       "      <th>unique</th>\n",
       "      <td>13</td>\n",
       "    </tr>\n",
       "    <tr>\n",
       "      <th>top</th>\n",
       "      <td>Love this article! Very informative.</td>\n",
       "    </tr>\n",
       "    <tr>\n",
       "      <th>freq</th>\n",
       "      <td>1</td>\n",
       "    </tr>\n",
       "  </tbody>\n",
       "</table>\n",
       "</div>"
      ],
      "text/plain": [
       "                                     comment\n",
       "count                                     13\n",
       "unique                                    13\n",
       "top     Love this article! Very informative.\n",
       "freq                                       1"
      ]
     },
     "execution_count": 9,
     "metadata": {},
     "output_type": "execute_result"
    }
   ],
   "source": [
    "df.describe()"
   ]
  },
  {
   "cell_type": "code",
   "execution_count": 10,
   "metadata": {},
   "outputs": [],
   "source": [
    "# Initialize sentiment columns\n",
    "df['polarity'] = 0\n",
    "df['subjectivity'] = 0\n",
    "df['sentiment'] = ''"
   ]
  },
  {
   "cell_type": "code",
   "execution_count": 11,
   "metadata": {},
   "outputs": [
    {
     "name": "stderr",
     "output_type": "stream",
     "text": [
      "/tmp/ipykernel_18956/4092037211.py:4: FutureWarning: Setting an item of incompatible dtype is deprecated and will raise an error in a future version of pandas. Value '0.4125' has dtype incompatible with int64, please explicitly cast to a compatible dtype first.\n",
      "  df.loc[index, 'polarity'] = blob.sentiment.polarity\n",
      "/tmp/ipykernel_18956/4092037211.py:5: FutureWarning: Setting an item of incompatible dtype is deprecated and will raise an error in a future version of pandas. Value '0.44999999999999996' has dtype incompatible with int64, please explicitly cast to a compatible dtype first.\n",
      "  df.loc[index, 'subjectivity'] = blob.sentiment.subjectivity\n"
     ]
    }
   ],
   "source": [
    "# Analyze sentiment using TextBlob\n",
    "for index, row in df.iterrows():\n",
    "    blob = TextBlob(row['comment'])\n",
    "    df.loc[index, 'polarity'] = blob.sentiment.polarity\n",
    "    df.loc[index, 'subjectivity'] = blob.sentiment.subjectivity\n",
    "    if blob.sentiment.polarity > 0:\n",
    "        df.loc[index, 'sentiment'] = 'Positive'\n",
    "    elif blob.sentiment.polarity < 0:\n",
    "        df.loc[index, 'sentiment'] = 'Negative'\n",
    "    else:\n",
    "        df.loc[index, 'sentiment'] = 'Neutral'"
   ]
  },
  {
   "cell_type": "code",
   "execution_count": 12,
   "metadata": {},
   "outputs": [
    {
     "name": "stdout",
     "output_type": "stream",
     "text": [
      "Positive Comments: 10 ( 76.92 %)\n",
      "Negative Comments: 1 ( 7.69 %)\n",
      "Neutral Comments: 2 ( 15.38 %)\n"
     ]
    }
   ],
   "source": [
    "# Summary of results\n",
    "positive_comments = len(df[df['sentiment'] == 'Positive'])\n",
    "negative_comments = len(df[df['sentiment'] == 'Negative'])\n",
    "neutral_comments = len(df[df['sentiment'] == 'Neutral'])\n",
    "\n",
    "print(\"Positive Comments:\", positive_comments, \"(\", round(positive_comments/len(comments)*100, 2), \"%)\")\n",
    "print(\"Negative Comments:\", negative_comments, \"(\", round(negative_comments/len(comments)*100, 2), \"%)\")\n",
    "print(\"Neutral Comments:\", neutral_comments, \"(\", round(neutral_comments/len(comments)*100, 2), \"%)\")\n"
   ]
  }
 ],
 "metadata": {
  "kernelspec": {
   "display_name": "Python 3",
   "language": "python",
   "name": "python3"
  },
  "language_info": {
   "codemirror_mode": {
    "name": "ipython",
    "version": 3
   },
   "file_extension": ".py",
   "mimetype": "text/x-python",
   "name": "python",
   "nbconvert_exporter": "python",
   "pygments_lexer": "ipython3",
   "version": "3.12.1"
  }
 },
 "nbformat": 4,
 "nbformat_minor": 2
}
